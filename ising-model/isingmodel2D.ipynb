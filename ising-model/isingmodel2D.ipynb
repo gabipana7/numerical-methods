{
 "cells": [
  {
   "cell_type": "code",
   "execution_count": 2,
   "metadata": {},
   "outputs": [],
   "source": [
    "import numpy as np\n",
    "import matplotlib.pyplot as plt "
   ]
  },
  {
   "cell_type": "code",
   "execution_count": 3,
   "metadata": {},
   "outputs": [],
   "source": [
    "# Lattice\n",
    "N = 7\n",
    "S = np.zeros((N+2,N+2))\n",
    "J = 1 \n",
    "\n",
    "# Steps\n",
    "Ntr = 10\n",
    "Nsteps = 100\n"
   ]
  },
  {
   "cell_type": "code",
   "execution_count": 4,
   "metadata": {},
   "outputs": [],
   "source": [
    "for i in range(1,N+1):\n",
    "    for j in range(1,N+1):\n",
    "        temp = np.random.random()\n",
    "        if temp>1/2:\n",
    "            S[i,j]=1\n",
    "        else:\n",
    "            S[i,j]=-1"
   ]
  },
  {
   "cell_type": "code",
   "execution_count": 5,
   "metadata": {},
   "outputs": [],
   "source": [
    "# Impose periodic boundary conditions\n",
    "#S[0,:] = S[N,:]\n",
    "#S[N+1,:] = S[1,:]\n",
    "#S[:,0] = S[:,N]\n",
    "#S[:,N+1]= S[:,1]"
   ]
  },
  {
   "cell_type": "code",
   "execution_count": 6,
   "metadata": {},
   "outputs": [
    {
     "data": {
      "text/plain": [
       "array([[ 0.,  0.,  0.,  0.,  0.,  0.,  0.,  0.,  0.],\n",
       "       [ 0., -1.,  1., -1., -1., -1., -1., -1.,  0.],\n",
       "       [ 0., -1.,  1.,  1., -1., -1., -1.,  1.,  0.],\n",
       "       [ 0., -1.,  1., -1.,  1.,  1., -1., -1.,  0.],\n",
       "       [ 0., -1.,  1.,  1.,  1.,  1.,  1.,  1.,  0.],\n",
       "       [ 0., -1., -1.,  1.,  1., -1., -1., -1.,  0.],\n",
       "       [ 0., -1.,  1., -1., -1., -1., -1., -1.,  0.],\n",
       "       [ 0.,  1., -1., -1.,  1., -1.,  1.,  1.,  0.],\n",
       "       [ 0.,  0.,  0.,  0.,  0.,  0.,  0.,  0.,  0.]])"
      ]
     },
     "execution_count": 6,
     "metadata": {},
     "output_type": "execute_result"
    }
   ],
   "source": [
    "S"
   ]
  },
  {
   "cell_type": "code",
   "execution_count": 7,
   "metadata": {},
   "outputs": [],
   "source": [
    "# Choose temperature range\n",
    "Ti = 7\n",
    "dT = 0.1\n",
    "Tf = 0.1"
   ]
  },
  {
   "cell_type": "code",
   "execution_count": 8,
   "metadata": {},
   "outputs": [],
   "source": [
    "counter=0\n",
    "T=Ti\n",
    "Temp=[Ti]\n",
    "M=[sum(sum(S))]\n"
   ]
  },
  {
   "cell_type": "code",
   "execution_count": 9,
   "metadata": {},
   "outputs": [],
   "source": [
    "while T>Tf:\n",
    "    mag=0\n",
    "\n",
    "    #Transitory period\n",
    "    for k in range(1,Ntr):\n",
    "        x = int(np.round(1+(N-1)*np.random.random()))\n",
    "        y = int(np.round(1+(N-1)*np.random.random()))\n",
    "\n",
    "        DE = 4*J*S[x,y]*(S[x-1,y]+S[x,y-1]+S[x+1,y]+S[x,y+1])\n",
    "        P = np.exp( -DE/Temp[counter])\n",
    "\n",
    "        if P > np.random.random():\n",
    "            S[x,y]=-S[x,y]\n",
    "        \n",
    "    #Transitory period\n",
    "    for k in range(1,Nsteps):\n",
    "        for j in range(1,N**2):\n",
    "            x = int(np.round(1+(N-1)*np.random.random()))\n",
    "            y = int(np.round(1+(N-1)*np.random.random()))\n",
    "\n",
    "            DE = 4*J*S[x,y]*(S[x-1,y]+S[x,y-1]+S[x+1,y]+S[x,y+1])\n",
    "            P = np.exp( -DE/Temp[counter])\n",
    "\n",
    "            if P>np.random.random():\n",
    "                S[x,y]=-S[x,y]\n",
    "        mag = mag+S\n",
    "    \n",
    "    counter = counter+1\n",
    "    Temp.append(T-dT)\n",
    "    T = T - dT\n",
    "\n",
    "    M.append(sum(sum(mag[1:N+1,1:N+1]))/Nsteps)"
   ]
  },
  {
   "cell_type": "code",
   "execution_count": 10,
   "metadata": {},
   "outputs": [
    {
     "data": {
      "text/plain": [
       "[<matplotlib.lines.Line2D at 0x7f2bfa83ba90>]"
      ]
     },
     "execution_count": 10,
     "metadata": {},
     "output_type": "execute_result"
    },
    {
     "data": {
      "image/png": "[encoded data removed]",
      "text/plain": [
       "<Figure size 432x288 with 1 Axes>"
      ]
     },
     "metadata": {
      "needs_background": "light"
     },
     "output_type": "display_data"
    }
   ],
   "source": [
    "plt.figure()\n",
    "plt.plot(Temp,M)"
   ]
  },
  {
   "cell_type": "code",
   "execution_count": 12,
   "metadata": {},
   "outputs": [],
   "source": [
    "# T scade -> numarul de spin flips acceptati este din ce in ce mai mic\n",
    "# pentru ca e defavorabil energetic\n",
    "\n",
    "# T scade -> accepti doar acele stari care scad energia\n",
    "\n",
    "# T scade -> distributia energiilor starilor pe care le parcurgi cu MC v a\n",
    "# fi din ce in ce mai ingusta. "
   ]
  },
  {
   "cell_type": "code",
   "execution_count": null,
   "metadata": {},
   "outputs": [],
   "source": []
  }
 ],
 "metadata": {
  "interpreter": {
   "hash": "916dbcbb3f70747c44a77c7bcd40155683ae19c65e1c03b4aa3499c5328201f1"
  },
  "kernelspec": {
   "display_name": "Python 3.8.10 64-bit",
   "language": "python",
   "name": "python3"
  },
  "language_info": {
   "codemirror_mode": {
    "name": "ipython",
    "version": 3
   },
   "file_extension": ".py",
   "mimetype": "text/x-python",
   "name": "python",
   "nbconvert_exporter": "python",
   "pygments_lexer": "ipython3",
   "version": "3.8.10"
  },
  "orig_nbformat": 4
 },
 "nbformat": 4,
 "nbformat_minor": 2
}
